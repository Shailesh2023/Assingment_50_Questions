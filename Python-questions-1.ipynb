{
 "cells": [
  {
   "cell_type": "markdown",
   "id": "c0fc1cad",
   "metadata": {},
   "source": [
    "***1. Print the first 5 positive integers in ascending order with one number \n",
    "in each line***\n"
   ]
  },
  {
   "cell_type": "code",
   "execution_count": 5,
   "id": "fff58ffe",
   "metadata": {},
   "outputs": [
    {
     "name": "stdout",
     "output_type": "stream",
     "text": [
      "1\n",
      "2\n",
      "3\n",
      "4\n",
      "5\n"
     ]
    }
   ],
   "source": [
    "for i in range (1,6):\n",
    "    print ( i)"
   ]
  },
  {
   "cell_type": "code",
   "execution_count": null,
   "id": "f9eda686",
   "metadata": {},
   "outputs": [],
   "source": [
    "2. Print the following pattern\n",
    "*\n",
    "**\n",
    "***\n",
    "****\n",
    "*****\n",
    "There are no spaces between consecutive stars. There are no spaces \n",
    "at the end of each line."
   ]
  },
  {
   "cell_type": "code",
   "execution_count": 7,
   "id": "af8d7c3a",
   "metadata": {},
   "outputs": [
    {
     "name": "stdout",
     "output_type": "stream",
     "text": [
      "*\n",
      "**\n",
      "***\n",
      "****\n",
      "*****\n"
     ]
    }
   ],
   "source": [
    "for i in range (1,6):\n",
    "    print(\"*\"*i)"
   ]
  },
  {
   "cell_type": "code",
   "execution_count": 9,
   "id": "a2ce4395",
   "metadata": {},
   "outputs": [
    {
     "name": "stdout",
     "output_type": "stream",
     "text": [
      "*\n",
      "**\n",
      "***\n",
      "****\n",
      "*****\n"
     ]
    }
   ],
   "source": [
    "for i in range (1,6):\n",
    "    for j in range (i):\n",
    "        print (\"*\",end = \"\")\n",
    "    print (\"\")"
   ]
  },
  {
   "cell_type": "markdown",
   "id": "75c1eb05",
   "metadata": {},
   "source": [
    "***3. Accept an integer as input and print its square as output.***"
   ]
  },
  {
   "cell_type": "code",
   "execution_count": 14,
   "id": "fb120e7d",
   "metadata": {
    "scrolled": true
   },
   "outputs": [
    {
     "name": "stdout",
     "output_type": "stream",
     "text": [
      "Enter a number : 5\n",
      "Square of input value 5 is :- 25\n"
     ]
    }
   ],
   "source": [
    "Input= int (input(\"Enter a number : \"))\n",
    "print (f\"Square of input value {Input} is :-\",Input**2)"
   ]
  },
  {
   "cell_type": "markdown",
   "id": "a810548c",
   "metadata": {},
   "source": [
    "***4.Accept two integers as input and print their sum as output.***"
   ]
  },
  {
   "cell_type": "code",
   "execution_count": 18,
   "id": "390d9f8b",
   "metadata": {},
   "outputs": [
    {
     "name": "stdout",
     "output_type": "stream",
     "text": [
      "Enter First number : 13\n",
      "Enter second number : 15\n",
      "Sum of input values of 13 and 15 is :- 28\n"
     ]
    }
   ],
   "source": [
    "First_number= int (input(\"Enter First number : \"))\n",
    "Second_number= int (input(\"Enter second number : \"))\n",
    "print (f\"Sum of input values of {First_number} and {Second_number} is :-\",First_number+Second_number)\n"
   ]
  },
  {
   "cell_type": "markdown",
   "id": "53607e1b",
   "metadata": {},
   "source": [
    "***5. Accept two words as input and print the two words after adding a space between them***"
   ]
  },
  {
   "cell_type": "code",
   "execution_count": 25,
   "id": "da3de094",
   "metadata": {
    "scrolled": true
   },
   "outputs": [
    {
     "name": "stdout",
     "output_type": "stream",
     "text": [
      "Enter First word : Shailesh \n",
      "Enter second word : Yadav\n",
      "Shailesh  ___  Yadav\n"
     ]
    }
   ],
   "source": [
    "First_word= input(\"Enter First word : \")\n",
    "Second_word= input(\"Enter second word : \")\n",
    "print(First_word,\"___ \",Second_word)"
   ]
  },
  {
   "cell_type": "markdown",
   "id": "839d3618",
   "metadata": {},
   "source": [
    "***6. Accept the registration number of a vehicle as input and print its state-code as output.***"
   ]
  },
  {
   "cell_type": "code",
   "execution_count": 34,
   "id": "622b9923",
   "metadata": {
    "scrolled": true
   },
   "outputs": [
    {
     "name": "stdout",
     "output_type": "stream",
     "text": [
      "Enter the registration number :UP14DJ8715\n",
      "The name of the city which the vehicle UP14DJ8715 belongs to : UP  \n"
     ]
    }
   ],
   "source": [
    "Registration_number = input(\"Enter the registration number :\")\n",
    "City = Registration_number[:2]\n",
    "print (f\"The name of the city which the vehicle {Registration_number} belongs to : {City}  \")"
   ]
  },
  {
   "cell_type": "markdown",
   "id": "ba290fc1",
   "metadata": {},
   "source": [
    "***7.Accept a five-digit number as input and print the sum of its digits as output.***"
   ]
  },
  {
   "cell_type": "code",
   "execution_count": 69,
   "id": "a7c92a76",
   "metadata": {
    "scrolled": true
   },
   "outputs": [
    {
     "name": "stdout",
     "output_type": "stream",
     "text": [
      "Enter the five digit number : 12345\n",
      "Sum of five digit number is :  15\n"
     ]
    }
   ],
   "source": [
    "NUM = input (\"Enter the five digit number : \")\n",
    "Index = 0\n",
    "for i in NUM:\n",
    "    Index = Index + int(i)\n",
    "print (\"Sum of five digit number is : \",Index)\n"
   ]
  },
  {
   "cell_type": "code",
   "execution_count": 71,
   "id": "5b983172",
   "metadata": {},
   "outputs": [
    {
     "name": "stdout",
     "output_type": "stream",
     "text": [
      "Enter the five digit number : 12345\n",
      "Sum of five digit number is :  15\n"
     ]
    }
   ],
   "source": [
    "Num = input(\"Enter the five digit number : \")\n",
    "D1 = int(Num[0])\n",
    "D2 = int(Num[1])\n",
    "D3 = int(Num[2])\n",
    "D4 = int(Num[3])\n",
    "D5 = int(Num[4])\n",
    "Sum = D1+D2+D3+D4+D5\n",
    "print (\"Sum of five digit number is : \",Sum)"
   ]
  },
  {
   "cell_type": "markdown",
   "id": "6583acd7",
   "metadata": {},
   "source": [
    "***8.Accept five words as input and print the sentence formed by these words after adding a space between consecutive words and a full stop at the end.***"
   ]
  },
  {
   "cell_type": "code",
   "execution_count": 76,
   "id": "2aaa91e2",
   "metadata": {},
   "outputs": [
    {
     "name": "stdout",
     "output_type": "stream",
     "text": [
      "i\n",
      "write\n",
      "code\n",
      "in \n",
      "inueron\n",
      "i write code in  inueron.\n"
     ]
    }
   ],
   "source": [
    "W1 = input()\n",
    "W2 = input()\n",
    "W3 = input()\n",
    "W4 = input()\n",
    "W5 = input()\n",
    "Sentence =W1+\" \"+W2+\" \"+W3+\" \"+W4+\" \"+W5+\".\" \n",
    "print(Sentence)\n",
    "\n"
   ]
  },
  {
   "cell_type": "markdown",
   "id": "8919d73a",
   "metadata": {},
   "source": [
    "***9.Accept the date in DD-MM-YYYY format as input and print the \n",
    "year as output.***"
   ]
  },
  {
   "cell_type": "code",
   "execution_count": 82,
   "id": "a6ab36dc",
   "metadata": {},
   "outputs": [
    {
     "name": "stdout",
     "output_type": "stream",
     "text": [
      "Enter the date in format DD-MM-YYYY : 05-01-1994\n",
      "Output is  : 1994\n"
     ]
    }
   ],
   "source": [
    "Date = input(\"Enter the date in format DD-MM-YYYY : \")\n",
    "Output = Date[6:10]\n",
    "print (f\"Output is  : {Output}\")\n"
   ]
  },
  {
   "cell_type": "markdown",
   "id": "15fa6bd7",
   "metadata": {},
   "source": [
    "***10.Accept a sequence of five single digit numbers separated by commas as input. Print the product of all five numbers.***"
   ]
  },
  {
   "cell_type": "code",
   "execution_count": 86,
   "id": "51b40899",
   "metadata": {},
   "outputs": [
    {
     "name": "stdout",
     "output_type": "stream",
     "text": [
      "1\n",
      "2\n",
      "3\n",
      "4\n",
      "5\n",
      "(1, 2, 3, 4, 5)\n",
      "120\n"
     ]
    }
   ],
   "source": [
    "Num1= int(input())\n",
    "Num2= int(input())\n",
    "Num3= int(input())\n",
    "Num4= int(input())\n",
    "Num5= int(input())\n",
    "Five_Num =Num1,Num2,Num3,Num4,Num5\n",
    "print(Five_Num)\n",
    "Index = 1\n",
    "for i in Five_Num:\n",
    "    Index = Index*i\n",
    "print(Index)\n",
    "    \n",
    "\n"
   ]
  },
  {
   "cell_type": "markdown",
   "id": "22de1fb2",
   "metadata": {},
   "source": [
    "***11. Accept two positive integers x and y as input. Print the number of digits in x power y***"
   ]
  },
  {
   "cell_type": "code",
   "execution_count": 91,
   "id": "139831da",
   "metadata": {
    "scrolled": true
   },
   "outputs": [
    {
     "name": "stdout",
     "output_type": "stream",
     "text": [
      "Enter the First integer : 5\n",
      "Enter the Second integer : 5\n",
      "3125\n",
      "4\n"
     ]
    }
   ],
   "source": [
    "Integer1 = int(input(\"Enter the First integer : \"))\n",
    "Integer2 = int(input(\"Enter the Second integer : \"))\n",
    "Mul_integer = Integer1**Integer2\n",
    "Len_of_Mul_integer = str(Mul_integer)\n",
    "print(Len_of_Mul_integer)\n",
    "print(len(Len_of_Mul_integer))\n"
   ]
  },
  {
   "cell_type": "markdown",
   "id": "31b92faa",
   "metadata": {},
   "source": [
    "***12. Accept a string as input. If the input string is of odd length, then continue with it. If the input string is of even length, make the string of odd length as below:\n",
    "• If the last character is a period (.), then remove it \n",
    "• If the last character is not a period, then add a period (.) to the end of the stringCall this string of odd length word. Select a substring made up of three consecutive characters from word such that there are an equal number of characters to the left and right of this substring. Print this substring as output. You can assume that all input strings will be in lower case and will have a length of at least four***"
   ]
  },
  {
   "cell_type": "code",
   "execution_count": 3,
   "id": "a53072ad",
   "metadata": {},
   "outputs": [
    {
     "name": "stdout",
     "output_type": "stream",
     "text": [
      "shailesh\n",
      "ile\n"
     ]
    }
   ],
   "source": [
    "word = input()\n",
    "Len = len(word)\n",
    "if Len%2 == 0:\n",
    "    if word[Len-1] ==\".\":\n",
    "        word = word[:-1]\n",
    "    else:\n",
    "        word = word+\".\"\n",
    "Len = int((len(word)-1)/2)\n",
    "print(word[Len-1:Len+2])"
   ]
  },
  {
   "cell_type": "markdown",
   "id": "4888d44c",
   "metadata": {},
   "source": [
    "***13. Accept three positive integers as input and check if they form the sides of a right triangle. Print YES if they form one, and NO is they do not. The input will have three lines, with one integer on each line. The output should be a single line containing one of these two strings: YES or NO.***"
   ]
  },
  {
   "cell_type": "code",
   "execution_count": 13,
   "id": "5a1a67ca",
   "metadata": {},
   "outputs": [
    {
     "name": "stdout",
     "output_type": "stream",
     "text": [
      "3\n",
      "4\n",
      "5\n",
      "Entered values will form right angled triangle.\n"
     ]
    }
   ],
   "source": [
    "X = int(input())\n",
    "Y = int(input())\n",
    "Z = int(input())\n",
    "if ((X**2 == Y**2 + Z**2) or  \n",
    "    (Y**2 == X**2 + Z**2) or  \n",
    "    (Z**2 == Y**2 + X**2)) :\n",
    "    print (\"Entered values will form right angled triangle.\")\n",
    "else:\n",
    "    print (\"Entered values will not form right angled triangle.\")\n",
    "\n",
    "\n",
    "\n"
   ]
  },
  {
   "cell_type": "markdown",
   "id": "8a5b634a",
   "metadata": {},
   "source": [
    "***14. EvenOdd is a tech startup. Each employee at the startup is given an employee id which is a unique positive integer. On one warm Sunday evening, five employees of the company come together for a meeting and sit at a circular table:\n",
    "The employees follow a strange convention. They will continue the meeting only if the following \n",
    "condition is satisfied.\n",
    "The sum of the employee-ids of every pair of adjacent employees at the table must be an even number.\n",
    "They are so lazy that they won’t move around to satisfy the above condition, If the current seating \n",
    "plan doesn’t satisfy the condition, the meeting will be cancelled. You are given the employee-id of all \n",
    "five employees. Your task is to decide if the meeting happened or not.The input will be five lined, each containing an integer. The ith line will have the employee-id of Ei. \n",
    "The output will be a single line containing one of these two strings: YES or NO***"
   ]
  },
  {
   "cell_type": "code",
   "execution_count": 17,
   "id": "e76bf74e",
   "metadata": {
    "scrolled": true
   },
   "outputs": [
    {
     "name": "stdout",
     "output_type": "stream",
     "text": [
      "Enter the id of first employee : 1\n",
      "Enter the id of Second employee : 2\n",
      "Enter the id of Third employee : 3\n",
      "Enter the id of Fourth employee : 4\n",
      "Enter the id of Fifth employee : 5\n",
      "Meeting will not be held\n"
     ]
    }
   ],
   "source": [
    "E1 = int (input(\"Enter the id of first employee : \"))\n",
    "E2 = int (input(\"Enter the id of Second employee : \"))\n",
    "E3 = int (input(\"Enter the id of Third employee : \"))\n",
    "E4 = int (input(\"Enter the id of Fourth employee : \"))\n",
    "E5 = int (input(\"Enter the id of Fifth employee : \"))\n",
    "if ((E1+E2)%2 ==0 and (E2+E3)%2 ==0 and (E3+E4)%2 ==0 and (E4+E5)%2 ==0 and (E5+E1)%2 ==0): \n",
    "    print (\"Meeting will continue\")\n",
    "else:\n",
    "    print (\"Meeting will not be held\")\n"
   ]
  },
  {
   "cell_type": "markdown",
   "id": "56a1a49e",
   "metadata": {},
   "source": [
    "***15. Accept a string as input and print the vowels present in the string in \n",
    "alphabetical order. If the string doesn’t contain any vowels, then \n",
    "print the string none as output. Each vowel that appears in the input \n",
    "string – irrespective of its case should appear just once in lower case \n",
    "in the output***"
   ]
  },
  {
   "cell_type": "code",
   "execution_count": 29,
   "id": "ff15dd37",
   "metadata": {},
   "outputs": [
    {
     "name": "stdout",
     "output_type": "stream",
     "text": [
      "Enter the string : Shailesh kumar yadav\n",
      "['s', 'h', 'a', 'i', 'l', 'e', 's', 'h', ' ', 'k', 'u', 'm', 'a', 'r', ' ', 'y', 'a', 'd', 'a', 'v']\n",
      "Vowels present in string are : \n",
      "{'a', 'u', 'e', 'i'}\n"
     ]
    }
   ],
   "source": [
    "Vowels = [\"a\",\"e\",\"i\",\"o\",\"u\"]\n",
    "String = input(\"Enter the string : \")\n",
    "New_Str = list(String.lower())\n",
    "print(New_Str)\n",
    "Output = []\n",
    "for i in New_Str:\n",
    "    if i in Vowels:\n",
    "        Output.append(i)\n",
    "print (\"Vowels present in string are : \")\n",
    "print(set(Output))\n",
    "\n"
   ]
  },
  {
   "cell_type": "markdown",
   "id": "05787989",
   "metadata": {},
   "source": [
    "***16.You are given the date of birth of two persons, not necessarily from \n",
    "the same family. Your task is to find the younger of the two. If both \n",
    "of them share the same date of birth, then the younger of the two is \n",
    "assumed to be that person whose name comes first in alphabetical \n",
    "order.\n",
    "The input will have four lines. The first two lines correspond to the \n",
    "first person, while the last two lines correspond to the second \n",
    "person. For each person, the first line corresponds to the name and \n",
    "the second line corresponds to the date of birth in “DD-MM-YYYY” \n",
    "format. Your output should be the name of the younger of the two.***"
   ]
  },
  {
   "cell_type": "code",
   "execution_count": 23,
   "id": "8d0196e0",
   "metadata": {},
   "outputs": [
    {
     "name": "stdout",
     "output_type": "stream",
     "text": [
      "Enter the Name of first person : Anjali\n",
      "Enter the date of birth of first person : 10-02-1995\n",
      "Enter the Name of second person : Shailesh\n",
      "Enter the date of birth of second person : 05-01-1994\n",
      "['A', 'n', 'j', 'a', 'l', 'i']\n",
      "['S', 'h', 'a', 'i', 'l', 'e', 's', 'h']\n",
      "Shailesh is Younger\n"
     ]
    }
   ],
   "source": [
    "Name_of_F = input (\"Enter the Name of first person : \")\n",
    "D_O_B_F = input (\"Enter the date of birth of first person : \")\n",
    "Name_of_S = input (\"Enter the Name of second person : \")\n",
    "D_O_B_S = input (\"Enter the date of birth of second person : \")\n",
    "F = print(list(Name_of_F))\n",
    "S = print(list(Name_of_S))\n",
    "if (D_O_B_F[-4:] == D_O_B_S[-4:]) and(D_O_B_F[3:5]== D_O_B_S[3:5]) and (D_O_B_F[0:2] == D_O_B_S[0:2]):\n",
    "    if Name_of_F > Name_of_S:\n",
    "        print (f\"{Name_of_F} is Younger\")\n",
    "    else:\n",
    "        print (f\"{Name_of_S} is Younger\")\n",
    "\n",
    "elif (D_O_B_F[-4:] != D_O_B_S[-4:]):\n",
    "    if int(D_O_B_F[-4:] > D_O_B_F[-4:]):\n",
    "        print (f\"{Name_of_F} is Younger\")\n",
    "    else : \n",
    "        print (f\"{Name_of_S} is Younger\")\n",
    "\n",
    "elif (D_O_B_F[3:5] != D_O_B_S[3:5]):\n",
    "    if int(D_O_B_F[3:5] > D_O_B_S[3:5]):\n",
    "        print (f\"{Name_of_F} is Younger\")\n",
    "    else : \n",
    "        print (f\"{Name_of_S} is Younger\")\n",
    "    \n",
    "else:\n",
    "    if int(D_O_B_F[0:2] > D_O_B_S[0:2]):\n",
    "        print (f\"{Name_of_F} is Younger\")\n",
    "    else : \n",
    "        print (f\"{Name_of_S} is Younger\")\n"
   ]
  },
  {
   "cell_type": "raw",
   "id": "6ee8f8bd-15aa-40d8-9cef-2f7e22f6cf5d",
   "metadata": {},
   "source": [
    "17.Accept a string as input. Your task is to determine if the input string is a valid password or not. For a \n",
    "string to be a valid password, it must satisfy all the conditions given below:\n",
    "(1) It should have at least 8 and at most 32 characters\n",
    "(2) It should start with an uppercase or lowercase letter\n",
    "(3) It should not have any of these characters: / \\ = ' \"\n",
    "(4) It should not have spaces\n",
    "It could have any character that is not mentioned in the list of characters to be avoided (points 3 and \n",
    "4). Output True if the string forms a valid password and False otherwise"
   ]
  },
  {
   "cell_type": "code",
   "execution_count": 27,
   "id": "71630a6a",
   "metadata": {},
   "outputs": [
    {
     "name": "stdout",
     "output_type": "stream",
     "text": [
      "Enter the string : 123dbcjsbfjsf\n",
      "False\n",
      "Not strong password\n"
     ]
    }
   ],
   "source": [
    "String = input(\"Enter the string : \")\n",
    "if len(String)>8 and len(String)<32 and String[0].isalpha() and '/' not in String and '=' not in String and '\\\\'not in String and '|'not in String and ' 'not in String:\n",
    "    print (\"True\")\n",
    "    print (\"Strong password\")\n",
    "else:\n",
    "    print (\"False\")\n",
    "    print(\"Not strong password\")"
   ]
  },
  {
   "cell_type": "markdown",
   "id": "2e62cf26",
   "metadata": {},
   "source": [
    "***18. Accept a positive integer n as input and print the first n positive integers, one number on each line.***"
   ]
  },
  {
   "cell_type": "code",
   "execution_count": 34,
   "id": "73113c0b",
   "metadata": {},
   "outputs": [
    {
     "name": "stdout",
     "output_type": "stream",
     "text": [
      "Enter a number : 10\n",
      "Positive_Integer in each line are: \n",
      "1\n",
      "2\n",
      "3\n",
      "4\n",
      "5\n",
      "6\n",
      "7\n",
      "8\n",
      "9\n",
      "10\n"
     ]
    }
   ],
   "source": [
    "Positive_Integer = int (input(\"Enter a number : \"))\n",
    "print (\"Positive_Integer in each line are: \" )\n",
    "for i in range (1, Positive_Integer+1):\n",
    "    print (i)\n"
   ]
  },
  {
   "cell_type": "markdown",
   "id": "b44c2ea7",
   "metadata": {},
   "source": [
    "***19.Accept a positive integer n as input, where n is greater than 1. Print PRIME ifnis a prime number and NOTPRIME otherwise.***"
   ]
  },
  {
   "cell_type": "code",
   "execution_count": 68,
   "id": "21bde276",
   "metadata": {},
   "outputs": [
    {
     "name": "stdout",
     "output_type": "stream",
     "text": [
      "Enter a number : 25\n",
      "25  is a not prime Number\n"
     ]
    }
   ],
   "source": [
    "Positive_Integer = int (input(\"Enter a number : \"))\n",
    "isprime = True\n",
    "if Positive_Integer == 1:\n",
    "    isprime =False\n",
    "else:\n",
    "    for i in range (2,Positive_Integer):\n",
    "        if Positive_Integer%i==0:\n",
    "            isprime = False\n",
    "if isprime == True:\n",
    "    print (Positive_Integer,\" is a prime Number\")\n",
    "else : \n",
    "    print (Positive_Integer,\" is a not prime Number\")  "
   ]
  },
  {
   "cell_type": "markdown",
   "id": "b7f373e4",
   "metadata": {},
   "source": [
    "***20. Accept two strings as input and form a new string by removing all characters from the second string which are present in the first string. \n",
    "Print this new string as output. You can assume that all input strings \n",
    "will be in lower case***"
   ]
  },
  {
   "cell_type": "code",
   "execution_count": 87,
   "id": "cf818712",
   "metadata": {},
   "outputs": [
    {
     "name": "stdout",
     "output_type": "stream",
     "text": [
      "Enter first string :  ram\n",
      "Enter Second string :  samu\n",
      "su\n"
     ]
    }
   ],
   "source": [
    "First_String = input(\"Enter first string :  \")\n",
    "Second_String = input(\"Enter Second string :  \")\n",
    "for i in First_String:\n",
    "    if i in Second_String:\n",
    "        Second_String = Second_String.replace(i,'')\n",
    "print (Second_String)"
   ]
  },
  {
   "cell_type": "markdown",
   "id": "710de90f",
   "metadata": {},
   "source": [
    "***21.Accept a phone number as input. A valid phone number should satisfy \n",
    "the following constraints.\n",
    "(1) The number should start with one of these digits: 6, 7, 8, 9\n",
    "(2) The number should be exactly 10 digits long.\n",
    "(3) No digit should appear more than 7 times in the number.\n",
    "(4) No digit should appear more than 5 times in a row in the \n",
    "number.\n",
    "If the fourth condition is not very clear, then consider this example: \n",
    "the number 9888888765 is invalid because the digit 8 appears more \n",
    "than 5 times in a row. Print the string valid if the phone number is \n",
    "valid. If not, print the string invalid.***"
   ]
  },
  {
   "cell_type": "code",
   "execution_count": 25,
   "id": "e28b5474",
   "metadata": {},
   "outputs": [
    {
     "name": "stdout",
     "output_type": "stream",
     "text": [
      "Enter a phone number : 99999999876\n",
      "Invalid Number\n"
     ]
    }
   ],
   "source": [
    "Phone_number = int(input(\"Enter a phone number : \"))\n",
    "New_Phone_number=str(Phone_number)\n",
    "A = False\n",
    "len(New_Phone_number)\n",
    "if len(New_Phone_number) == 10 and int(New_Phone_number[0])>5 and New_Phone_number.isdigit():\n",
    "    for i in range (10):\n",
    "        if New_Phone_number.count(New_Phone_number[i]) <8:\n",
    "            A = True\n",
    "            if New_Phone_number[i]*6 in New_Phone_number:\n",
    "                A = False\n",
    "                break\n",
    "        else:\n",
    "            break\n",
    "if A:\n",
    "    print(\"Valid Number\")\n",
    "else:\n",
    "    print(\"Invalid Number\")\n",
    "    \n",
    "\n",
    "                   "
   ]
  },
  {
   "cell_type": "markdown",
   "id": "af215d9c",
   "metadata": {},
   "source": [
    "***22. In the first line of input, accept a sequence of space-separated words. In the second line of \n",
    "input, accept a single word. If this word is not present in the sequence, print NO. If this word \n",
    "is present in the sequence, then print YES and in the next line of the output, print the number \n",
    "of times the word appears in the sequence.***"
   ]
  },
  {
   "cell_type": "code",
   "execution_count": 38,
   "id": "27687e99",
   "metadata": {},
   "outputs": [
    {
     "name": "stdout",
     "output_type": "stream",
     "text": [
      "i love code in ineuron and code in python\n",
      "['i', 'love', 'code', 'in', 'ineuron', 'and', 'code', 'in', 'python']\n",
      "code\n",
      "Present\n",
      "2\n"
     ]
    }
   ],
   "source": [
    "String_1 = input ().split(' ')\n",
    "print(String_1)\n",
    "String_2 = input()\n",
    "if  String_2 not in String_1:\n",
    "        print (\"not present\")\n",
    "elif String_2 in String_1:\n",
    "    print (\"Present\")\n",
    "    No_of_time = String_1.count(String_2)\n",
    "    print (No_of_time)    "
   ]
  },
  {
   "cell_type": "markdown",
   "id": "1d2cbac0",
   "metadata": {},
   "source": [
    "***23. Write a function named factorial that accepts an integer n as argument. It should return \n",
    "the factorial of n if n is a positive integer. It should return -1 if n is a negative integer, and it \n",
    "should return 1 if n is zero.***"
   ]
  },
  {
   "cell_type": "code",
   "execution_count": 61,
   "id": "2d402255",
   "metadata": {},
   "outputs": [
    {
     "data": {
      "text/plain": [
       "6"
      ]
     },
     "execution_count": 61,
     "metadata": {},
     "output_type": "execute_result"
    }
   ],
   "source": [
    "def Factorial_num(a):\n",
    "    if a < 0:\n",
    "         print(\"-1\")\n",
    "    elif a == 0:\n",
    "        print(\"1\")\n",
    "    else :\n",
    "        F = 1\n",
    "        for i in range (1,a+1):\n",
    "            F*=i\n",
    "        return F\n",
    "Factorial_num(3)"
   ]
  },
  {
   "cell_type": "markdown",
   "id": "4f8cccfa",
   "metadata": {},
   "source": [
    "***24. \n",
    "The range of a list of numbers is the difference between the maximum and minimum values in the list\n",
    "Write a function named get_range that accepts a non-empty list of real numbers as argument. It \n",
    "should return the range of the list.\n",
    "(1) Avoid using built-in function such as max and min.\n",
    "(2) You do not have to accept input from the user or print output to the console. You just have to write \n",
    "the function definition.***"
   ]
  },
  {
   "cell_type": "code",
   "execution_count": 10,
   "id": "ed2a0abf",
   "metadata": {},
   "outputs": [],
   "source": [
    "def get_max(L):\n",
    "    Maxi = L[0]\n",
    "    for x in L:\n",
    "        if x > Maxi:\n",
    "            Maxi = x\n",
    "    return Maxi\n",
    "\n",
    "def get_min(L):\n",
    "    mini = L[0]\n",
    "    for x in L:\n",
    "        if x < mini:\n",
    "            mini = x\n",
    "    return mini\n",
    "\n",
    "def get_range(L):\n",
    "    Maxi = get_max(L)\n",
    "    mini = get_min(L)\n",
    "    return Maxi-mini\n"
   ]
  },
  {
   "cell_type": "code",
   "execution_count": 11,
   "id": "fc612fa3",
   "metadata": {},
   "outputs": [
    {
     "data": {
      "text/plain": [
       "8"
      ]
     },
     "execution_count": 11,
     "metadata": {},
     "output_type": "execute_result"
    }
   ],
   "source": [
    "get_range([2,3,4,5,10])"
   ]
  },
  {
   "cell_type": "markdown",
   "id": "28070ca1",
   "metadata": {},
   "source": [
    "***25. Write a function named read_file that accepts a text file named filename as argument. Within \n",
    "the function, read the file and print each line of the file on a separate line in the console. You shouldn't \n",
    "print any extra characters at the end of a line. There shouldn't be an empty line between any two \n",
    "consecutive lines.\n",
    "(1) filename is a string variable that holds the name of the file. For example, in the first test case, it \n",
    "is filename = 'public_1.txt'.\n",
    "(2) You do not have to accept input from the console. You have to write the function definition and \n",
    "print the contents of the file within the function***"
   ]
  },
  {
   "cell_type": "code",
   "execution_count": 12,
   "id": "1f78d995",
   "metadata": {},
   "outputs": [],
   "source": [
    "def read_file(file: str):\n",
    "    with open (file,'r') as f:\n",
    "        lines = f.read()\n",
    "        print (lines)\n",
    "    "
   ]
  },
  {
   "cell_type": "markdown",
   "id": "938d4790",
   "metadata": {},
   "source": [
    "***26. A simple algorithm has to be designed to find out whether a student \n",
    "belongs to the Data Science branch or not. The input will be a \n",
    "student's roll number, which is of the form BR18B0000. \n",
    "Here, BR represents the branch code, 18 represents the year of \n",
    "joining, B represents the education level and 0000 represents the \n",
    "specific identification given to the student of that batch. The branch \n",
    "code for Data Science is DS. Print True if the student belongs to \n",
    "Data Science branch and False otherwise.***"
   ]
  },
  {
   "cell_type": "code",
   "execution_count": 14,
   "id": "7bec608c",
   "metadata": {},
   "outputs": [
    {
     "name": "stdout",
     "output_type": "stream",
     "text": [
      "Enter the roll number of student : BR20D1234\n",
      "False as the student does not belongs to Data Science\n"
     ]
    }
   ],
   "source": [
    "Student_belongs = input(\"Enter the roll number of student : \")\n",
    "if (Student_belongs[:2] == \"DS\") :\n",
    "    print (\"True as student belongs to Data Science\")\n",
    "else:\n",
    "    print (\"False as the student does not belongs to Data Science\")"
   ]
  },
  {
   "cell_type": "markdown",
   "id": "cd1dd753",
   "metadata": {},
   "source": [
    "***27.The police are trying to track a criminal based on the evidence \n",
    "available at a crime site. Their main clue is a vehicle's damaged \n",
    "number plate. Only the string TN07 is visible. The format of the \n",
    "registration number is AA00AA00, where the first two letters are \n",
    "alphabets, next two are numbers, next two are again alphabets \n",
    "followed by two numbers at the end. A number plate is picked from a \n",
    "database of registration numbers and is given to you as input. Your \n",
    "task is to determine if this could belong to the criminal or not. \n",
    "Print True if the number plate \n",
    "contains TN07 and False otherwise.***"
   ]
  },
  {
   "cell_type": "code",
   "execution_count": 18,
   "id": "729554ae",
   "metadata": {},
   "outputs": [
    {
     "name": "stdout",
     "output_type": "stream",
     "text": [
      "Enter the number plate of vehicle : BN07UN97\n",
      "False as the number plate does not belongs to criminal vehicle\n"
     ]
    }
   ],
   "source": [
    "Number_plate = input(\"Enter the number plate of vehicle : \")\n",
    "if (Number_plate[:4] == \"TN07\") or  (Number_plate[4:8] == \"TN07\"):\n",
    "    print (\"True as the number plate belongs to criminal vehicle\")\n",
    "else:\n",
    "    print (\"False as the number plate does not belongs to criminal vehicle\")"
   ]
  },
  {
   "cell_type": "markdown",
   "id": "c9661fbb",
   "metadata": {},
   "source": [
    "***28. You are given a string and two non-negative integers as input. The \n",
    "two integers specify the start and end indices of a substring in the \n",
    "given string. Create a new string by replicating the substring a \n",
    "minimum number of times so that the resulting string is longer than \n",
    "the input string. The input parameters are the string, start index of \n",
    "the substring and the end index of substring (endpoints inclusive) \n",
    "each on a different line.***"
   ]
  },
  {
   "cell_type": "code",
   "execution_count": 39,
   "id": "1c5a22ae",
   "metadata": {},
   "outputs": [
    {
     "name": "stdout",
     "output_type": "stream",
     "text": [
      "Enter the string : code\n",
      "Enter the start index : 2\n",
      "Enter the end index : 3\n",
      "dedede\n"
     ]
    }
   ],
   "source": [
    "String = input(\"Enter the string : \")\n",
    "start = int(input(\"Enter the start index : \"))\n",
    "end = int(input(\"Enter the end index : \"))\n",
    "substring = String[start:end+1]\n",
    "Ans = \"\"\n",
    "while (len(String)>=len(Ans)): \n",
    "    Ans=Ans+substring\n",
    "print (Ans)"
   ]
  },
  {
   "cell_type": "markdown",
   "id": "4fb3937e",
   "metadata": {},
   "source": [
    "***29. A class teacher has decided to split her entire class into four groups, namely Sapphire, Peridot, Ruby, \n",
    "and Emerald for sports competitions. For dividing the students into these four groups, she has \n",
    "followed the pattern given below:\n",
    "Sapphire - 1, 5, 9, 13, 17, 21, ...\n",
    "Peridot - 2, 6, 10, 14, 18, 22, ...\n",
    "Ruby - 3, 7, 11, 15, 19, 23, ...\n",
    "Emerald - 4, 8, 12, 16, 20, 24, ...\n",
    "All the students are represented by their roll numbers. Based on the above pattern, given the roll \n",
    "number as input, print the group the student belongs to. Note that the roll number can be any \n",
    "positive integer and not necessarily less than 25.***"
   ]
  },
  {
   "cell_type": "code",
   "execution_count": 45,
   "id": "5cd1fa72",
   "metadata": {},
   "outputs": [
    {
     "name": "stdout",
     "output_type": "stream",
     "text": [
      "Enter the roll number : 74\n",
      "Peridot\n"
     ]
    }
   ],
   "source": [
    "Roll_number = int(input(\"Enter the roll number : \"))\n",
    "for i in range (1,Roll_number+1,4):\n",
    "    if Roll_number == i:\n",
    "        print(\"Sapphire\")\n",
    "for j in range (2,Roll_number+1,4):\n",
    "    if Roll_number == j:\n",
    "        print (\"Peridot\")\n",
    "for k in range (3,Roll_number+1,4):\n",
    "    if Roll_number == k:\n",
    "        print (\"Ruby\")\n",
    "for l in range (4,Roll_number+1,4):\n",
    "    if Roll_number == l:\n",
    "        print (\"Emerald\")"
   ]
  },
  {
   "cell_type": "markdown",
   "id": "2a7f3c3f",
   "metadata": {},
   "source": [
    "***30. A data science company wants to hire data scientists from abc college. \n",
    "The company follows a certain criteria for selection: for a student to \n",
    "be selected, the number of backlogs should be at most 5 and the \n",
    "CGPA (Cumulative Grade Point Average) should be greater than 6. If \n",
    "the student does not fit the above criteria, then the student is not \n",
    "offered the job. If the student is selected, then the salary offered is \n",
    "equal to 5 times his/her CGPA (in lakhs).\n",
    "Accept the number of backlogs (integer) and the CGPA (float) of the \n",
    "student as input. Your task is to determine if the student is selected or \n",
    "not. If the student is selected, then print the package. If not, then \n",
    "print the string Not Selected.***"
   ]
  },
  {
   "cell_type": "code",
   "execution_count": 51,
   "id": "2092bb01",
   "metadata": {
    "scrolled": true
   },
   "outputs": [
    {
     "name": "stdout",
     "output_type": "stream",
     "text": [
      "Enter the number of backlogs : 4\n",
      "Enter the CGPA : 7.1\n",
      "ABC company has offerd the job\n",
      "Salary is : 35.5\n"
     ]
    }
   ],
   "source": [
    "Backlogs = int (input(\"Enter the number of backlogs : \"))\n",
    "CGPA = float (input(\"Enter the CGPA : \"))\n",
    "if Backlogs <= 5 and CGPA > 6:\n",
    "    print (\"ABC company has offerd the job\")\n",
    "    Salary = 5*CGPA\n",
    "else:\n",
    "    print (\"Not offered the job\")\n",
    "    \n",
    "print (f\"Salary is : {Salary}\")\n"
   ]
  },
  {
   "cell_type": "markdown",
   "id": "23788d82",
   "metadata": {},
   "source": [
    "***31. Accept a string as input and print PALINDROME if it is a \n",
    "palindrome, and NOT PALINDROME otherwise***"
   ]
  },
  {
   "cell_type": "code",
   "execution_count": 54,
   "id": "3ff911a9",
   "metadata": {},
   "outputs": [
    {
     "name": "stdout",
     "output_type": "stream",
     "text": [
      "Enter the string : refer\n",
      "Palindrome\n"
     ]
    }
   ],
   "source": [
    "Str = input(\"Enter the string : \")\n",
    "if Str == Str[::-1]:\n",
    "    print (\"Palindrome\")\n",
    "else :\n",
    "    print (\"Not a palindrome\")"
   ]
  },
  {
   "cell_type": "raw",
   "id": "e47773f8",
   "metadata": {},
   "source": [
    "32. In a portal login website, you are asked to write a function get_password_strength to decide \n",
    "the strength of a password. The strength is decided based on the total score of the password, Use \n",
    "following conditions:\n",
    "1) If password has length greater than 7 then score increases by one point.\n",
    "2) If a password has atleast one upper case and lower case score increases by one point.\n",
    "3) If  password has atleast one number and no consecutive number like 12 or 234 the score increases by one point.\n",
    "4) If password has atleast one special character ( any characterother than numbers and alphabets) then score increases by one point.\n",
    "5) if password contains user name then it is invalid password.\n",
    "If the password has score of four points, three points, two points, or one point then print Very \n",
    "Strong, Strong, Moderate, or Weak respectively. If the password is invalid, then \n",
    "print PASSWORD SHOULD NOT CONTAIN USERNAME and If the score is zero, then print Use a \n",
    "different password.The arguments to the function are username and password which are \n",
    "already defined"
   ]
  },
  {
   "cell_type": "code",
   "execution_count": 16,
   "id": "9440b5a8",
   "metadata": {},
   "outputs": [],
   "source": [
    "def get_password_strength(username,paasword):\n",
    "    score = 0\n",
    "    Capital = 'ABCDEFGHIJKLMNOPQRSTUVWXYZ'\n",
    "    Small = 'abcdefghijklmnopqrstuvwxyg'\n",
    "    Num = '0123456789'\n",
    "    C_flag = False\n",
    "    S_flag = False\n",
    "    N_flag = False\n",
    "    NC_flag = True\n",
    "    if username in paasword :\n",
    "        print (\"PASSWORD SHOULD NOT CONTAIN USERNAME\")\n",
    "        return\n",
    "    if len(paasword) > 7:\n",
    "        score = score+1\n",
    "    for i in range (len(paasword)):\n",
    "        if paasword[i] in Small:\n",
    "            S_flag = True\n",
    "        elif paasword[i] in Capital : \n",
    "            C_flag = True\n",
    "        elif paasword[i] in Num : \n",
    "            N_flag = True\n",
    "        if N_flag:\n",
    "            if i!= (len(paasword)-1):\n",
    "                if Num[((Num.index(paasword[i]))+1)]==paasword[i+1]:\n",
    "                    NC_flag = False\n",
    "    if C_flag and S_flag:\n",
    "        score = score+1\n",
    "    if N_flag and NC_flag:\n",
    "        score = score+1\n",
    "    if not paasword.isalnum():\n",
    "        score = score+1\n",
    "    if score == 4 :\n",
    "                        print(\"Very strong paasword\")\n",
    "                        return\n",
    "    if score == 3:\n",
    "                        print(\"Strong paasword\")\n",
    "                        return\n",
    "    if score == 2:\n",
    "                        print(\"Moderate\")\n",
    "                        return\n",
    "    if score == 1:\n",
    "                        print(\"Weak\")\n",
    "                        return\n",
    "    if score == 0:\n",
    "                        print(\"Use a diffrent paasword\")\n",
    "                        return        \n",
    "        "
   ]
  },
  {
   "cell_type": "code",
   "execution_count": 17,
   "id": "b67e7479",
   "metadata": {},
   "outputs": [
    {
     "name": "stdout",
     "output_type": "stream",
     "text": [
      "Very strong paasword\n"
     ]
    }
   ],
   "source": [
    "get_password_strength(\"Shailu058\",\"Shailu@135\")"
   ]
  },
  {
   "cell_type": "markdown",
   "id": "79f24f22",
   "metadata": {},
   "source": [
    "***33.decorator that logs the date and time***"
   ]
  },
  {
   "cell_type": "code",
   "execution_count": 21,
   "id": "b0ffe691",
   "metadata": {},
   "outputs": [],
   "source": [
    "from datetime import datetime\n",
    "def log_datetime(func):\n",
    "    def wrapper():\n",
    "        print(f'function: {func.__name__} \\nRun on{datetime.today().strftime(\"%Y-%m-%D %H:%M:%S\")}')\n",
    "        print(f'{\"-\"*30}')\n",
    "        func()\n",
    "    return wrapper\n",
    "@log_datetime\n",
    "def Daily_backup():\n",
    "    print(\"Daily backup job has finished\")"
   ]
  },
  {
   "cell_type": "code",
   "execution_count": 22,
   "id": "ca3895cd",
   "metadata": {},
   "outputs": [
    {
     "name": "stdout",
     "output_type": "stream",
     "text": [
      "function: Daily_backup \n",
      "Run on2023-02-02/23/23 22:25:05\n",
      "------------------------------\n",
      "Daily backup job has finished\n"
     ]
    }
   ],
   "source": [
    "Daily_backup()"
   ]
  },
  {
   "cell_type": "markdown",
   "id": "9ba67634",
   "metadata": {},
   "source": [
    "***34.Program to Get Data Items From a List Appearing Odd Number of Times***"
   ]
  },
  {
   "cell_type": "code",
   "execution_count": 37,
   "id": "5e226684",
   "metadata": {},
   "outputs": [
    {
     "name": "stdout",
     "output_type": "stream",
     "text": [
      "5\n",
      "Input = 1\n",
      "Input = 5\n",
      "Input = 5\n",
      "Input = 6\n",
      "Input = 7\n",
      "List : [1, 5, 5, 6, 7]\n",
      "New list of data : [1, 6, 7]\n"
     ]
    }
   ],
   "source": [
    "L = list()\n",
    "N = int(input())\n",
    "M = list()\n",
    "for i in range (N):\n",
    "    Input = int(input(\"Input = \"))\n",
    "    L.append(Input)\n",
    "print(f\"List : {L}\")\n",
    "for i in L:\n",
    "    if L.count(i) % 2 !=0:\n",
    "        M.append(i)\n",
    "print(f\"New list of data : {M}\")"
   ]
  },
  {
   "cell_type": "markdown",
   "id": "fda28beb",
   "metadata": {},
   "source": [
    "***35.What are decorators in Python?***"
   ]
  },
  {
   "cell_type": "raw",
   "id": "caa4a7ae",
   "metadata": {},
   "source": [
    "A decorator is a design pattern in Python that allows a user to add new functionality to an existing object without modifying its structure. Decorators are usually called before the definition of a function you want to decorate."
   ]
  },
  {
   "cell_type": "markdown",
   "id": "13da734f",
   "metadata": {},
   "source": [
    "***36. remove items from a list while iterating but without creating a different copy of a list.\n",
    "Remove numbers greater than 50\n",
    "number_list = [10, 20, 30, 40, 50, 60, 70, 80, 90, 100]\n",
    "Expected Output: [10, 20, 30, 40, 50]***"
   ]
  },
  {
   "cell_type": "code",
   "execution_count": 54,
   "id": "1627bbf8",
   "metadata": {},
   "outputs": [
    {
     "name": "stdout",
     "output_type": "stream",
     "text": [
      "[10, 20, 30, 40, 50]\n"
     ]
    }
   ],
   "source": [
    "number_list = [10, 20, 30, 40, 50, 60, 70, 80, 90, 100] \n",
    "i = 0\n",
    "n = len(number_list)\n",
    "while i<n:\n",
    "    if number_list[i]>50:\n",
    "        del number_list[i]\n",
    "        n = n-1\n",
    "    else:\n",
    "        i = i+1\n",
    "print(number_list)"
   ]
  },
  {
   "cell_type": "markdown",
   "id": "6319e209",
   "metadata": {},
   "source": [
    "***37.  Display all duplicate items from a list\n",
    "sample_list = [10, 20, 60, 30, 20, 40, 30, 60, 70, 80]\n",
    "Expected Output: [20, 60, 30]***"
   ]
  },
  {
   "cell_type": "code",
   "execution_count": 61,
   "id": "d67ecc02",
   "metadata": {
    "scrolled": false
   },
   "outputs": [
    {
     "name": "stdout",
     "output_type": "stream",
     "text": [
      "[20, 60, 30]\n"
     ]
    }
   ],
   "source": [
    "sample_list = [10, 20, 60, 30, 20, 40, 30, 60, 70, 80]\n",
    "L = []\n",
    "for i in sample_list:\n",
    "    if sample_list.count(i)>1:\n",
    "        L.append(i)\n",
    "print (list(set(L))) "
   ]
  },
  {
   "cell_type": "code",
   "execution_count": null,
   "id": "d2eaf56b",
   "metadata": {},
   "outputs": [],
   "source": [
    "import collections\n",
    "sample_list = [10, 20, 60, 30, 20, 40, 30, 60, 70, 80]\n",
    "Duplicates = []\n",
    "for item,count in collections.counter(sample_list).items():\n",
    "    if count> 1:\n",
    "        Duplicates.append(item)\n",
    "print(Duplicates)"
   ]
  },
  {
   "cell_type": "markdown",
   "id": "18401ce6",
   "metadata": {},
   "source": [
    "***38. Create an outer function that will accept two strings, x and y. (x= 'Emma' and y = 'Kelly'.\n",
    "Create an inner function inside an outer function that will concatenate x and y.\n",
    "At last, an outer function will join the word 'developer' to it.***"
   ]
  },
  {
   "cell_type": "code",
   "execution_count": 75,
   "id": "fdb40516",
   "metadata": {},
   "outputs": [],
   "source": [
    "def outer_function(X,Y):\n",
    "    def inner_function(X,Y):\n",
    "        return X+Y\n",
    "    C = inner_function(X,Y)\n",
    "    return (C)+\"Developer\"\n",
    "    "
   ]
  },
  {
   "cell_type": "code",
   "execution_count": 79,
   "id": "26992ba3",
   "metadata": {},
   "outputs": [
    {
     "name": "stdout",
     "output_type": "stream",
     "text": [
      "emmakellyDeveloper\n"
     ]
    }
   ],
   "source": [
    "Z = outer_function(\"emma\",\"kelly\")\n",
    "print (Z)"
   ]
  },
  {
   "cell_type": "markdown",
   "id": "6d83e44b",
   "metadata": {},
   "source": [
    "***39. Modify the element of a nested list inside the following list\n",
    "Change the element 35 to 3500\n",
    "list1 = [5, [10, 15, [20, 25, [30, 35], 40], 45], 50]***"
   ]
  },
  {
   "cell_type": "code",
   "execution_count": 80,
   "id": "970e324d",
   "metadata": {},
   "outputs": [
    {
     "data": {
      "text/plain": [
       "[5, [10, 15, [20, 25, [30, 3500], 40], 45], 50]"
      ]
     },
     "execution_count": 80,
     "metadata": {},
     "output_type": "execute_result"
    }
   ],
   "source": [
    "list1 = [5, [10, 15, [20, 25, [30, 35], 40], 45], 50]\n",
    "list1[1][2][2][1] = 3500\n",
    "list1"
   ]
  },
  {
   "cell_type": "raw",
   "id": "0106b7da-e95f-46ba-873a-e641d7199be7",
   "metadata": {},
   "source": [
    "40.  Access the nested key increment from the following dictionary\n",
    "Access 12\n",
    "emp_dict = {\n",
    "    \"company\": {\n",
    "        \"employee\": {\n",
    "            \"name\": \"Jess\",\n",
    "            \"payable\": {\n",
    "                \"salary\": 9000,\n",
    "                \"increment\": 12\n",
    "            }\n",
    "        }\n",
    "    }\n",
    "}"
   ]
  },
  {
   "cell_type": "code",
   "execution_count": 88,
   "id": "c98d9f13",
   "metadata": {},
   "outputs": [],
   "source": [
    "emp_dict = {\n",
    "    \"company\": {\n",
    "        \"employee\": {\n",
    "            \"name\": \"Jess\",\n",
    "            \"payable\": {\n",
    "                \"salary\": 9000,\n",
    "                \"increment\": 12\n",
    "            }\n",
    "        }\n",
    "    }\n",
    "}\n"
   ]
  },
  {
   "cell_type": "code",
   "execution_count": 90,
   "id": "58991496",
   "metadata": {},
   "outputs": [
    {
     "data": {
      "text/plain": [
       "12"
      ]
     },
     "execution_count": 90,
     "metadata": {},
     "output_type": "execute_result"
    }
   ],
   "source": [
    "emp_dict[\"company\"][\"employee\"][\"payable\"][\"increment\"]"
   ]
  },
  {
   "cell_type": "raw",
   "id": "a36e12a4-baf9-4c0b-90e6-c16fd60b02ba",
   "metadata": {},
   "source": [
    "41. Print the sum of the current number and the previous number\n",
    "Write a program to iterate the first 10 numbers and in each iteration, print the sum of the current and previous number.\n",
    "Printing current and previous number sum in a range(10)\n",
    "Current Number 0 Previous Number  0  Sum:  0\n",
    "Current Number 1 Previous Number  0  Sum:  1\n",
    "Current Number 2 Previous Number  1  Sum:  3\n",
    "Current Number 3 Previous Number  2  Sum:  5\n",
    "Current Number 4 Previous Number  3  Sum:  7\n",
    "Current Number 5 Previous Number  4  Sum:  9\n",
    "Current Number 6 Previous Number  5  Sum:  11\n",
    "Current Number 7 Previous Number  6  Sum:  13\n",
    "Current Number 8 Previous Number  7  Sum:  15\n",
    "Current Number 9 Previous Number  8  Sum:  17"
   ]
  },
  {
   "cell_type": "code",
   "execution_count": 106,
   "id": "5b4216d6",
   "metadata": {},
   "outputs": [
    {
     "name": "stdout",
     "output_type": "stream",
     "text": [
      "Current Number 0 Previous Number 0 Sum :0\n",
      "Current Number 1 Previous Number 0 Sum :1\n",
      "Current Number 2 Previous Number 1 Sum :3\n",
      "Current Number 3 Previous Number 2 Sum :5\n",
      "Current Number 4 Previous Number 3 Sum :7\n",
      "Current Number 5 Previous Number 4 Sum :9\n",
      "Current Number 6 Previous Number 5 Sum :11\n",
      "Current Number 7 Previous Number 6 Sum :13\n",
      "Current Number 8 Previous Number 7 Sum :15\n",
      "Current Number 9 Previous Number 8 Sum :17\n"
     ]
    }
   ],
   "source": [
    "sum = 0\n",
    "prev = 0\n",
    "for i in range(0,10):\n",
    "    sum = i+prev\n",
    "    print (f\"Current Number {i} Previous Number {prev} Sum :{sum}\")\n",
    "    prev = i"
   ]
  },
  {
   "cell_type": "raw",
   "id": "a9c9e7a5",
   "metadata": {},
   "source": [
    "42. Print characters from a string that are present at an even index number\n",
    "Write a program to accept a string from the user and display characters that are present at an even index number.\n",
    "\n",
    "For example, str = \"ineuron\" so you should display ‘i’, ‘e’, ‘r’, ‘n’."
   ]
  },
  {
   "cell_type": "code",
   "execution_count": 134,
   "id": "cd49c668",
   "metadata": {},
   "outputs": [
    {
     "name": "stdout",
     "output_type": "stream",
     "text": [
      "Enter the string : Shailesh\n",
      "['S']\n",
      "['a']\n",
      "['l']\n",
      "['s']\n"
     ]
    }
   ],
   "source": [
    "Index = 0\n",
    "Str = input(\"Enter the string : \")\n",
    "for i in Str:\n",
    "    if Index%2 == 0:\n",
    "        print (list(i))\n",
    "    Index = Index+1"
   ]
  },
  {
   "cell_type": "code",
   "execution_count": 136,
   "id": "6b0cd526",
   "metadata": {},
   "outputs": [
    {
     "name": "stdout",
     "output_type": "stream",
     "text": [
      "Enter the string : Shailesh\n",
      "S a l s "
     ]
    }
   ],
   "source": [
    "Str = input(\"Enter the string : \")\n",
    "for i in range (len(Str)):\n",
    "    if i%2 == 0:\n",
    "        print(Str[i],end =\" \")"
   ]
  },
  {
   "cell_type": "raw",
   "id": "19f5f95f-8e4e-48c8-8639-247f8f058efa",
   "metadata": {},
   "source": [
    "43. Print multiplication table form 1 to 10\n",
    "1  2 3 4 5 6 7 8 9 10 \t\t\n",
    "2  4 6 8 10 12 14 16 18 20 \t\t\n",
    "3  6 9 12 15 18 21 24 27 30 \t\t\n",
    "4  8 12 16 20 24 28 32 36 40 \t\t\n",
    "5  10 15 20 25 30 35 40 45 50 \t\t\n",
    "6  12 18 24 30 36 42 48 54 60 \t\t\n",
    "7  14 21 28 35 42 49 56 63 70 \t\t\n",
    "8  16 24 32 40 48 56 64 72 80 \t\t\n",
    "9  18 27 36 45 54 63 72 81 90 \t\t\n",
    "10 20 30 40 50 60 70 80 90 100 "
   ]
  },
  {
   "cell_type": "code",
   "execution_count": 143,
   "id": "32e68909",
   "metadata": {},
   "outputs": [
    {
     "name": "stdout",
     "output_type": "stream",
     "text": [
      "1 2 3 4 5 6 7 8 9 10 \n",
      "\n",
      "2 4 6 8 10 12 14 16 18 20 \n",
      "\n",
      "3 6 9 12 15 18 21 24 27 30 \n",
      "\n",
      "4 8 12 16 20 24 28 32 36 40 \n",
      "\n",
      "5 10 15 20 25 30 35 40 45 50 \n",
      "\n",
      "6 12 18 24 30 36 42 48 54 60 \n",
      "\n",
      "7 14 21 28 35 42 49 56 63 70 \n",
      "\n",
      "8 16 24 32 40 48 56 64 72 80 \n",
      "\n",
      "9 18 27 36 45 54 63 72 81 90 \n",
      "\n",
      "10 20 30 40 50 60 70 80 90 100 \n",
      "\n"
     ]
    }
   ],
   "source": [
    "for i in range (1,11):\n",
    "    for j in range (1,11):\n",
    "        print (i*j,end =\" \")\n",
    "    print(\"\\n\")"
   ]
  },
  {
   "cell_type": "raw",
   "id": "07f9b814-fc05-4a97-8a50-b762ab2522e6",
   "metadata": {},
   "source": [
    "44. Remove duplicates from a list and create a tuple and find the minimum and maximum number\n",
    "sample_list = [87, 45, 41, 65, 94, 41, 99, 94]\n",
    "Expected Outcome:\n",
    "unique items [87, 45, 41, 65, 99]\n",
    "tuple (87, 45, 41, 65, 99)\n",
    "min: 41\n",
    "max: 99"
   ]
  },
  {
   "cell_type": "code",
   "execution_count": 165,
   "id": "1a6eb783",
   "metadata": {},
   "outputs": [
    {
     "name": "stdout",
     "output_type": "stream",
     "text": [
      "New_sample_list : [65, 99, 41, 45, 87, 94]\n",
      "Tupled_list : tuple (65, 99, 41, 45, 87, 94)\n",
      "Min = 41\n",
      "Max = 99\n"
     ]
    }
   ],
   "source": [
    "sample_list = [87, 45, 41, 65, 94, 41, 99, 94]\n",
    "New_sample_list = list(set(sample_list))\n",
    "print(f\"New_sample_list : {New_sample_list}\")\n",
    "print(f\"Tupled_list : tuple {tuple(New_sample_list)}\")\n",
    "print(f\"Min = {min(New_sample_list)}\")\n",
    "print(f\"Max = {max(New_sample_list)}\")\n"
   ]
  },
  {
   "cell_type": "raw",
   "id": "f4d4b1a2-7c19-43c4-922c-837b6c40f5fb",
   "metadata": {},
   "source": [
    "45. Write a Python program to create a lambda function that adds 15 to a given number passed in as an argument,\n",
    "also create a lambda function\n",
    "that multiplies argument x with argument y and print the result."
   ]
  },
  {
   "cell_type": "code",
   "execution_count": 1,
   "id": "6e759b4d",
   "metadata": {},
   "outputs": [
    {
     "name": "stdout",
     "output_type": "stream",
     "text": [
      "Value after addition :  20\n",
      "Value after multiplication :  150\n"
     ]
    }
   ],
   "source": [
    "lambda_function = lambda X : X+15\n",
    "lambda_function_2 = lambda X,Y : X*Y\n",
    "print(\"Value after addition : \",lambda_function(5))\n",
    "print(\"Value after multiplication : \",lambda_function_2(10,15))"
   ]
  },
  {
   "cell_type": "raw",
   "id": "58df2f9a-6310-4e59-a5fe-6658ff7898e1",
   "metadata": {},
   "source": [
    "46. Write a Python program to sort a list of tuples using Lambda."
   ]
  },
  {
   "cell_type": "code",
   "execution_count": 25,
   "id": "bf06c395",
   "metadata": {},
   "outputs": [
    {
     "data": {
      "text/plain": [
       "[('Anjali', 95), ('Shailesh', 90)]"
      ]
     },
     "execution_count": 25,
     "metadata": {},
     "output_type": "execute_result"
    }
   ],
   "source": [
    "sortedLst = lambda X : sorted(X)\n",
    "Lst = [(\"Shailesh\",90),(\"Anjali\",95)]\n",
    "sortedLst(Lst)"
   ]
  },
  {
   "cell_type": "code",
   "execution_count": 29,
   "id": "f96c0e55",
   "metadata": {},
   "outputs": [
    {
     "data": {
      "text/plain": [
       "[5, 7, 9, 10, 21, 39, 45]"
      ]
     },
     "execution_count": 29,
     "metadata": {},
     "output_type": "execute_result"
    }
   ],
   "source": [
    "sortedTup = lambda X : sorted(X)\n",
    "Lst1 =(10,39,45,21,5,7,9)\n",
    "sortedTup(Lst1)"
   ]
  },
  {
   "cell_type": "raw",
   "id": "745bbb70-f71c-4042-a99a-f42bccef267e",
   "metadata": {},
   "source": [
    "47. Write a Python program to extract year, month, date and time using Lambda."
   ]
  },
  {
   "cell_type": "code",
   "execution_count": 36,
   "id": "71b0abda",
   "metadata": {},
   "outputs": [
    {
     "name": "stdout",
     "output_type": "stream",
     "text": [
      "2023-03-13 22:40:45.749088\n",
      "2023\n",
      "3\n",
      "13\n",
      "22:40:45.749088\n"
     ]
    }
   ],
   "source": [
    "import datetime\n",
    "now = datetime.datetime.now()\n",
    "print(now)\n",
    "Year = lambda X: X.year\n",
    "month = lambda Y:Y.month\n",
    "day= lambda Z : Z.day\n",
    "time = lambda A: A.time()\n",
    "print(Year(now))\n",
    "print(month(now))\n",
    "print(day(now))\n",
    "print(time(now))"
   ]
  },
  {
   "cell_type": "raw",
   "id": "afcf0f97-d39b-4554-a14f-411096bd515e",
   "metadata": {},
   "source": [
    "48. Write a Python program to count the even, odd numbers in a given array of integers using Lambda."
   ]
  },
  {
   "cell_type": "code",
   "execution_count": 47,
   "id": "d6337185",
   "metadata": {},
   "outputs": [
    {
     "name": "stdout",
     "output_type": "stream",
     "text": [
      "Total Even number are  :  6\n",
      "Total Odd number are  :  8\n",
      "List of Even number :  [2, 4, 66, 22, 76, 32]\n",
      "List of odd number :  [3, 5, 77, 33, 9, 7, 47, 31]\n"
     ]
    }
   ],
   "source": [
    "Arr = [2,3,4,5,66,77,22,33,9,7,47,76,32,31]\n",
    "Even = (list(filter(lambda C: C%2==0,Arr)))\n",
    "Odd = (list(filter(lambda C: C%2!=0,Arr)))\n",
    "print(\"Total Even number are  : \",len(Even))\n",
    "print(\"Total Odd number are  : \",len(Odd))\n",
    "print(\"List of Even number : \",Even)\n",
    "print(\"List of odd number : \",Odd)\n",
    "\n"
   ]
  },
  {
   "cell_type": "raw",
   "id": "dbd65ee9-2f83-4286-a7b3-52f398ab8527",
   "metadata": {},
   "source": [
    "49. Write a Python program to convert all the characters in uppercase and lowercase and eliminate duplicate letters from a given sequence.\n",
    "Use map() function."
   ]
  },
  {
   "cell_type": "code",
   "execution_count": 62,
   "id": "2c64f564",
   "metadata": {},
   "outputs": [
    {
     "name": "stdout",
     "output_type": "stream",
     "text": [
      "Upper part :  ['A', 'B', 'C', 'K', 'S', 'U', 'K', 'S', 'U', 'NEHA']\n",
      "Lower part :  ['a', 'b', 'c', 'k', 's', 'u', 'k', 's', 'u', 'neha']\n",
      "Dup part :  {'k', 'S', 'neha', 'A', 'B', 'u', 'c'}\n"
     ]
    }
   ],
   "source": [
    "Char = [\"A\",\"B\",\"c\",\"k\",\"S\",\"u\",\"k\",\"S\",\"u\",\"neha\"]\n",
    "Upper = list(map(lambda D: D.upper(),Char))\n",
    "Lower= list(map(lambda D: D.lower(),Char))\n",
    "Dup= set(Char)\n",
    "print(\"Upper part : \",Upper)\n",
    "print(\"Lower part : \",Lower)\n",
    "print(\"Dup part : \",Dup)\n",
    "\n"
   ]
  },
  {
   "cell_type": "raw",
   "id": "78c63beb-b43b-48ad-bb20-31f403af2f10",
   "metadata": {},
   "source": [
    "50.  Write a Python program to square the elements of a list using map() function."
   ]
  },
  {
   "cell_type": "code",
   "execution_count": 63,
   "id": "ed921864",
   "metadata": {},
   "outputs": [],
   "source": [
    "def square(l):\n",
    "    return l**2"
   ]
  },
  {
   "cell_type": "code",
   "execution_count": 67,
   "id": "86b6896d",
   "metadata": {},
   "outputs": [],
   "source": [
    "L = [4,3,5,2,6,7]"
   ]
  },
  {
   "cell_type": "code",
   "execution_count": 70,
   "id": "486115cd",
   "metadata": {},
   "outputs": [
    {
     "name": "stdout",
     "output_type": "stream",
     "text": [
      "[16, 9, 25, 4, 36, 49]\n"
     ]
    }
   ],
   "source": [
    "Squaredlst= map(lambda X: X**2,L)\n",
    "print(list(Squaredlst))"
   ]
  },
  {
   "cell_type": "code",
   "execution_count": 74,
   "id": "1cb51650",
   "metadata": {},
   "outputs": [
    {
     "name": "stdout",
     "output_type": "stream",
     "text": [
      "[16, 9, 25, 4, 36, 49]\n"
     ]
    }
   ],
   "source": [
    "NewLst = map(square,L)\n",
    "print(list(NewLst))"
   ]
  }
 ],
 "metadata": {
  "kernelspec": {
   "display_name": "Python 3 (ipykernel)",
   "language": "python",
   "name": "python3"
  },
  "language_info": {
   "codemirror_mode": {
    "name": "ipython",
    "version": 3
   },
   "file_extension": ".py",
   "mimetype": "text/x-python",
   "name": "python",
   "nbconvert_exporter": "python",
   "pygments_lexer": "ipython3",
   "version": "3.9.7"
  }
 },
 "nbformat": 4,
 "nbformat_minor": 5
}
